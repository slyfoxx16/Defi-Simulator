{
 "cells": [
  {
   "attachments": {},
   "cell_type": "markdown",
   "metadata": {},
   "source": [
    "# Simulate DeFi LP"
   ]
  },
  {
   "attachments": {},
   "cell_type": "markdown",
   "metadata": {},
   "source": [
    "Jupyter Notebook to simulate liquidity pools (LP) in Unisap v3. Pulls last 60 days of transaction for LP using a Dune Analytics query. Query pulls data for ETH-Stable pairs and Stable-Stable pairs (Only consiers DAI USDC and USDT). Builds a markov chain to forecast the next 7 days of tansactions for each pair."
   ]
  },
  {
   "cell_type": "code",
   "execution_count": 1,
   "metadata": {},
   "outputs": [],
   "source": [
    "# Setup\n",
    "import UniswapData\n",
    "import UniswapEDA\n",
    "\n",
    "# Uniswap Pools of interest\n",
    "pools = {\n",
    "    'USDC-ETH_5bp':{\n",
    "        'fee':0.0005,\n",
    "        'address':'0x88e6a0c2ddd26feeb64f039a2c41296fcb3f5640'},\n",
    "    'USDC-ETH_30bp':{\n",
    "        'fee':0.003,\n",
    "        'address':'0x8ad599c3a0ff1de082011efddc58f1908eb6e6d8'},\n",
    "    'USDC-ETH_100bp':{\n",
    "        'fee':0.01,\n",
    "        'address':'0x7bea39867e4169dbe237d55c8242a8f2fcdcc387'},\n",
    "    'DAI-ETH_5bp':{\n",
    "        'fee':0.0005,\n",
    "        'address':'0x60594a405d53811d3bc4766596efd80fd545a270'},\n",
    "    'DAI-ETH_30bp':{\n",
    "        'fee':0.003,\n",
    "        'address':'0xc2e9f25be6257c210d7adf0d4cd6e3e881ba25f8'},\n",
    "    'DAI-ETH_100bp':{\n",
    "        'fee':0.01,\n",
    "        'address':'0xa80964c5bbd1a0e95777094420555fead1a26c1e'},\n",
    "    'WETH-WBTC_5bp':{\n",
    "        'fee':0.0005,\n",
    "        'address':'0x4585fe77225b41b697c938b018e2ac67ac5a20c0'},\n",
    "    'WETH-WBTC_30bp':{\n",
    "        'fee':0.003,\n",
    "        'address':'0xcbcdf9626bc03e24f779434178a73a0b4bad62ed'},\n",
    "    'WETH-WBTC_100bp':{\n",
    "        'fee':0.01,\n",
    "        'address':'0x6ab3bba2f41e7eaa262fa5a1a9b3932fa161526f'}\n",
    "}\n",
    "\n",
    "\n",
    "# Days of Data\n",
    "n_days = 30"
   ]
  },
  {
   "attachments": {},
   "cell_type": "markdown",
   "metadata": {},
   "source": [
    "### Get Uniswap LP Data"
   ]
  },
  {
   "cell_type": "code",
   "execution_count": 2,
   "metadata": {},
   "outputs": [
    {
     "name": "stdout",
     "output_type": "stream",
     "text": [
      "Fetching data for pools: **USDC-ETH_5bp, USDC-ETH_30bp, USDC-ETH_100bp, DAI-ETH_5bp, DAI-ETH_30bp, DAI-ETH_100bp, WETH-WBTC_5bp, WETH-WBTC_30bp, WETH-WBTC_100bp** for the last **30** days.\n"
     ]
    },
    {
     "name": "stderr",
     "output_type": "stream",
     "text": [
      "Exception in thread Thread-11 (fetch_swap_data):\n",
      "Traceback (most recent call last):\n",
      "  File \"/home/carlos/anaconda3/envs/DeFiSim/lib/python3.10/threading.py\", line 1016, in _bootstrap_inner\n",
      "    self.run()\n",
      "  File \"/home/carlos/anaconda3/envs/DeFiSim/lib/python3.10/threading.py\", line 953, in run\n",
      "    self._target(*self._args, **self._kwargs)\n",
      "  File \"/home/carlos/Documents/GitHub/UniswapData.py\", line 151, in fetch_swap_data\n",
      "    new_data = json.loads(response.text)[\"data\"][\"swaps\"]\n",
      "KeyError: 'data'\n",
      "Exception in thread Thread-17 (fetch_swap_data):\n",
      "Traceback (most recent call last):\n",
      "  File \"/home/carlos/anaconda3/envs/DeFiSim/lib/python3.10/threading.py\", line 1016, in _bootstrap_inner\n",
      "    self.run()\n",
      "  File \"/home/carlos/anaconda3/envs/DeFiSim/lib/python3.10/threading.py\", line 953, in run\n",
      "    self._target(*self._args, **self._kwargs)\n",
      "  File \"/home/carlos/Documents/GitHub/UniswapData.py\", line 151, in fetch_swap_data\n",
      "    new_data = json.loads(response.text)[\"data\"][\"swaps\"]\n",
      "KeyError: 'data'\n",
      "Exception in thread Thread-19 (fetch_swap_data):\n",
      "Traceback (most recent call last):\n",
      "  File \"/home/carlos/anaconda3/envs/DeFiSim/lib/python3.10/threading.py\", line 1016, in _bootstrap_inner\n",
      "    self.run()\n",
      "  File \"/home/carlos/anaconda3/envs/DeFiSim/lib/python3.10/threading.py\", line 953, in run\n",
      "    self._target(*self._args, **self._kwargs)\n",
      "  File \"/home/carlos/Documents/GitHub/UniswapData.py\", line 151, in fetch_swap_data\n",
      "    new_data = json.loads(response.text)[\"data\"][\"swaps\"]\n",
      "KeyError: 'data'\n",
      "Exception in thread Thread-5 (fetch_swap_data):\n",
      "Traceback (most recent call last):\n",
      "  File \"/home/carlos/anaconda3/envs/DeFiSim/lib/python3.10/threading.py\", line 1016, in _bootstrap_inner\n",
      "    self.run()\n",
      "  File \"/home/carlos/anaconda3/envs/DeFiSim/lib/python3.10/threading.py\", line 953, in run\n",
      "    self._target(*self._args, **self._kwargs)\n",
      "  File \"/home/carlos/Documents/GitHub/UniswapData.py\", line 151, in fetch_swap_data\n",
      "    new_data = json.loads(response.text)[\"data\"][\"swaps\"]\n",
      "KeyError: 'data'\n",
      "Exception in thread Thread-7 (fetch_swap_data):\n",
      "Traceback (most recent call last):\n",
      "  File \"/home/carlos/anaconda3/envs/DeFiSim/lib/python3.10/threading.py\", line 1016, in _bootstrap_inner\n",
      "    self.run()\n",
      "  File \"/home/carlos/anaconda3/envs/DeFiSim/lib/python3.10/threading.py\", line 953, in run\n",
      "    self._target(*self._args, **self._kwargs)\n",
      "  File \"/home/carlos/Documents/GitHub/UniswapData.py\", line 151, in fetch_swap_data\n",
      "    new_data = json.loads(response.text)[\"data\"][\"swaps\"]\n",
      "KeyError: 'data'\n"
     ]
    },
    {
     "ename": "KeyError",
     "evalue": "'swap_data'",
     "output_type": "error",
     "traceback": [
      "\u001b[0;31m---------------------------------------------------------------------------\u001b[0m",
      "\u001b[0;31mKeyError\u001b[0m                                  Traceback (most recent call last)",
      "Cell \u001b[0;32mIn[2], line 3\u001b[0m\n\u001b[1;32m      1\u001b[0m uniswap_data \u001b[39m=\u001b[39m UniswapData\u001b[39m.\u001b[39mUniswapDataFetcher(pools, n_days)\n\u001b[1;32m      2\u001b[0m uniswap_data\u001b[39m.\u001b[39msave_data_to_pickle()\n\u001b[0;32m----> 3\u001b[0m UniswapEDA\u001b[39m.\u001b[39;49muniswap_report(uniswap_data)\n",
      "File \u001b[0;32m~/Documents/GitHub/UniswapEDA.py:23\u001b[0m, in \u001b[0;36muniswap_report\u001b[0;34m(data_fetcher)\u001b[0m\n\u001b[1;32m     21\u001b[0m \u001b[39mfor\u001b[39;00m pool_name, pool_data \u001b[39min\u001b[39;00m data_fetcher\u001b[39m.\u001b[39mpools\u001b[39m.\u001b[39mitems():\n\u001b[1;32m     22\u001b[0m     pool_daily_data \u001b[39m=\u001b[39m pool_data[\u001b[39m'\u001b[39m\u001b[39mdaily_data\u001b[39m\u001b[39m'\u001b[39m]\n\u001b[0;32m---> 23\u001b[0m     pool_swap_data \u001b[39m=\u001b[39m pool_data[\u001b[39m'\u001b[39;49m\u001b[39mswap_data\u001b[39;49m\u001b[39m'\u001b[39;49m]\n\u001b[1;32m     25\u001b[0m     daily_data_subtab_children \u001b[39m=\u001b[39m [\n\u001b[1;32m     26\u001b[0m         dbc\u001b[39m.\u001b[39mCol([\n\u001b[1;32m     27\u001b[0m             dbc\u001b[39m.\u001b[39mCard([\n\u001b[0;32m   (...)\u001b[0m\n\u001b[1;32m     43\u001b[0m         ], width\u001b[39m=\u001b[39m\u001b[39m4\u001b[39m)\n\u001b[1;32m     44\u001b[0m     ]\n\u001b[1;32m     46\u001b[0m     swap_data_subtab_children \u001b[39m=\u001b[39m [\n\u001b[1;32m     47\u001b[0m         dbc\u001b[39m.\u001b[39mCol([\n\u001b[1;32m     48\u001b[0m             dbc\u001b[39m.\u001b[39mCard([\n\u001b[0;32m   (...)\u001b[0m\n\u001b[1;32m     58\u001b[0m         ], width\u001b[39m=\u001b[39m\u001b[39m6\u001b[39m)\n\u001b[1;32m     59\u001b[0m     ]\n",
      "\u001b[0;31mKeyError\u001b[0m: 'swap_data'"
     ]
    }
   ],
   "source": [
    "uniswap_data = UniswapData.UniswapDataFetcher(pools, n_days)\n",
    "uniswap_data.save_data_to_pickle()\n",
    "UniswapEDA.uniswap_report(uniswap_data)"
   ]
  },
  {
   "cell_type": "code",
   "execution_count": null,
   "metadata": {},
   "outputs": [],
   "source": []
  }
 ],
 "metadata": {
  "kernelspec": {
   "display_name": "DeFiSim",
   "language": "python",
   "name": "python3"
  },
  "language_info": {
   "codemirror_mode": {
    "name": "ipython",
    "version": 3
   },
   "file_extension": ".py",
   "mimetype": "text/x-python",
   "name": "python",
   "nbconvert_exporter": "python",
   "pygments_lexer": "ipython3",
   "version": "3.10.10"
  },
  "orig_nbformat": 4
 },
 "nbformat": 4,
 "nbformat_minor": 2
}
