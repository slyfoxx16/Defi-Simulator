{
 "cells": [
  {
   "attachments": {},
   "cell_type": "markdown",
   "metadata": {},
   "source": [
    "# Simulate DeFi LP"
   ]
  },
  {
   "attachments": {},
   "cell_type": "markdown",
   "metadata": {},
   "source": [
    "Jupyter Notebook to simulate liquidity pools (LP) in Unisap v3. Pulls last 60 days of transaction for LP using a Dune Analytics query. Query pulls data for ETH-Stable pairs and Stable-Stable pairs (Only consiers DAI USDC and USDT). Builds a markov chain to forecast the next 7 days of tansactions for each pair."
   ]
  },
  {
   "cell_type": "code",
   "execution_count": 1,
   "metadata": {},
   "outputs": [],
   "source": [
    "# Setup\n",
    "import DuneData\n",
    "import mcTrainer"
   ]
  },
  {
   "attachments": {},
   "cell_type": "markdown",
   "metadata": {},
   "source": [
    "### Get LP Data"
   ]
  },
  {
   "cell_type": "code",
   "execution_count": 2,
   "metadata": {},
   "outputs": [
    {
     "ename": "TypeError",
     "evalue": "DexData.get_dune_data() takes 1 positional argument but 2 were given",
     "output_type": "error",
     "traceback": [
      "\u001b[0;31m---------------------------------------------------------------------------\u001b[0m",
      "\u001b[0;31mTypeError\u001b[0m                                 Traceback (most recent call last)",
      "Cell \u001b[0;32mIn[2], line 5\u001b[0m\n\u001b[1;32m      1\u001b[0m \u001b[39m# Query URL: https://dune.com/queries/2257465\u001b[39;00m\n\u001b[1;32m      2\u001b[0m \u001b[39m# Query ID\u001b[39;00m\n\u001b[1;32m      3\u001b[0m qry_id \u001b[39m=\u001b[39m \u001b[39m2257465\u001b[39m\n\u001b[0;32m----> 5\u001b[0m dex_data \u001b[39m=\u001b[39m DuneData\u001b[39m.\u001b[39;49mDexData(\u001b[39m2257465\u001b[39;49m)\n",
      "File \u001b[0;32m~/Documents/GitHub/DuneData.py:8\u001b[0m, in \u001b[0;36mDexData.__init__\u001b[0;34m(self, query_id)\u001b[0m\n\u001b[1;32m      7\u001b[0m \u001b[39mdef\u001b[39;00m \u001b[39m__init__\u001b[39m(\u001b[39mself\u001b[39m,query_id):\n\u001b[0;32m----> 8\u001b[0m \t\u001b[39mself\u001b[39m\u001b[39m.\u001b[39mdex_data \u001b[39m=\u001b[39m \u001b[39mself\u001b[39;49m\u001b[39m.\u001b[39;49mget_dune_data(query_id)\n\u001b[1;32m      9\u001b[0m \t\u001b[39mself\u001b[39m\u001b[39m.\u001b[39mts_dict \u001b[39m=\u001b[39m \u001b[39mself\u001b[39m\u001b[39m.\u001b[39mformat_data(\u001b[39mself\u001b[39m\u001b[39m.\u001b[39mdex_data)\n",
      "\u001b[0;31mTypeError\u001b[0m: DexData.get_dune_data() takes 1 positional argument but 2 were given"
     ]
    }
   ],
   "source": [
    "# Query URL: https://dune.com/queries/2257465\n",
    "# Query ID\n",
    "qry_id = 2257465\n",
    "\n",
    "dex_data = DuneData.DexData(2257465)"
   ]
  },
  {
   "cell_type": "code",
   "execution_count": null,
   "metadata": {},
   "outputs": [],
   "source": [
    "import torch\n",
    "import torch.nn as nn\n",
    "import torch.optim as optim\n",
    "from torch.utils.data import DataLoader, TensorDataset\n",
    "import tqdm\n",
    "\n",
    "DEVICE = torch.device('cuda' if torch.cuda.is_available() else 'cpu')\n",
    "\n",
    "class RNN(nn.Module):\n",
    "    def __init__(self, input_size, hidden_size, output_size):\n",
    "        super(RNN, self).__init__()\n",
    "        self.rnn = nn.RNN(input_size, hidden_size, batch_first=True)\n",
    "        self.fc = nn.Linear(hidden_size, output_size)\n",
    "        self.to(DEVICE)\n",
    "\n",
    "    def forward(self, x):\n",
    "        x, _ = self.rnn(x)\n",
    "        x = self.fc(x[:, -1, :])\n",
    "        return x\n",
    "\n",
    "class MarkovChain:\n",
    "    def __init__(self, rnn, data):\n",
    "        self.model = rnn\n",
    "        self.data = data\n",
    "\n",
    "    def prepare_data(self, data, window_size):\n",
    "        x, y = [], []\n",
    "        for i in range(len(data) - window_size):\n",
    "            x.append(data[i:i + window_size])\n",
    "            y.append(data[i + window_size])\n",
    "        return torch.tensor(x).float(), torch.tensor(y).float()\n",
    "                    \n",
    "    def train(self, window_size, epochs, batch_size, learning_rate, show_progress=True):\n",
    "        x, y = self.prepare_data(self.data, window_size)\n",
    "        dataset = TensorDataset(x, y)\n",
    "        dataloader = DataLoader(dataset, batch_size=batch_size, shuffle=True)\n",
    "        criterion = nn.L1Loss()\n",
    "        optimizer = optim.Adam(self.model.parameters(), lr=learning_rate)\n",
    "\n",
    "        self.model.train()\n",
    "\n",
    "        total_steps = len(dataloader) * epochs\n",
    "        progress_bar = tqdm.tqdm(total=total_steps, desc=\"Training Progress\") if show_progress else None\n",
    "\n",
    "        for epoch in range(epochs):\n",
    "            for inputs, targets in dataloader:\n",
    "                inputs, targets = inputs.to(DEVICE), targets.to(DEVICE)\n",
    "                inputs = inputs.unsqueeze(-1)\n",
    "                optimizer.zero_grad()\n",
    "                outputs = self.model(inputs)\n",
    "                loss = criterion(outputs, targets.unsqueeze(-1))\n",
    "                loss.backward()\n",
    "                optimizer.step()\n",
    "\n",
    "                if show_progress:\n",
    "                    progress_bar.update(1)\n",
    "\n",
    "        if show_progress:\n",
    "            progress_bar.close()\n",
    "\n",
    "    def forecast(self, data, window_size):\n",
    "        self.model.eval()\n",
    "        with torch.no_grad():\n",
    "            inputs = torch.tensor(data[-window_size:]).float().to(self.device)\n",
    "            inputs = inputs.unsqueeze(0).unsqueeze(-1)\n",
    "            output = self.model(inputs)\n",
    "            return output.item()\n"
   ]
  },
  {
   "cell_type": "code",
   "execution_count": null,
   "metadata": {},
   "outputs": [],
   "source": [
    "# Set the hyperparameters\n",
    "input_size = 1\n",
    "hidden_size = 50\n",
    "output_size = 1\n",
    "lr = 0.001\n",
    "epochs = 1000\n",
    "batch_size = 32\n",
    "window_size = 7\n",
    "\n",
    "\n",
    "# Prepare the data\n",
    "data = dune_data['ethereum']['DAI-USDC']['trades'].values.tolist()\n",
    "\n",
    "# Instantiate the RNN model and the Markov chain\n",
    "rnn= RNN(input_size, hidden_size, output_size)\n",
    "mc = MarkovChain(rnn, data)\n",
    "mc.train(window_size, epochs, batch_size, lr)\n",
    "\n"
   ]
  },
  {
   "cell_type": "code",
   "execution_count": null,
   "metadata": {},
   "outputs": [],
   "source": []
  },
  {
   "cell_type": "code",
   "execution_count": null,
   "metadata": {},
   "outputs": [],
   "source": [
    "data = time_sereies['ethereum']['DAI-USDC']\n",
    "x = mcTrainer.train_model(data, 185, 50, 1000)\n",
    "x.score(plot=True)"
   ]
  },
  {
   "cell_type": "code",
   "execution_count": null,
   "metadata": {},
   "outputs": [],
   "source": [
    "\n",
    "\n"
   ]
  }
 ],
 "metadata": {
  "kernelspec": {
   "display_name": "DeFiSim",
   "language": "python",
   "name": "python3"
  },
  "language_info": {
   "codemirror_mode": {
    "name": "ipython",
    "version": 3
   },
   "file_extension": ".py",
   "mimetype": "text/x-python",
   "name": "python",
   "nbconvert_exporter": "python",
   "pygments_lexer": "ipython3",
   "version": "3.10.10"
  },
  "orig_nbformat": 4
 },
 "nbformat": 4,
 "nbformat_minor": 2
}
